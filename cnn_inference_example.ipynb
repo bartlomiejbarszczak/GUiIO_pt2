{
 "cells": [
  {
   "cell_type": "code",
   "execution_count": 33,
   "id": "669c00ed",
   "metadata": {},
   "outputs": [],
   "source": [
    "import numpy as np\n",
    "import onnxruntime as ort\n",
    "from sentence_transformers import SentenceTransformer"
   ]
  },
  {
   "cell_type": "code",
   "execution_count": 34,
   "id": "41c7fe60",
   "metadata": {},
   "outputs": [],
   "source": [
    "onnx_model_path = \"cnn1d_sentiment.onnx\"\n",
    "session = ort.InferenceSession(onnx_model_path)"
   ]
  },
  {
   "cell_type": "code",
   "execution_count": 35,
   "id": "da84651b",
   "metadata": {},
   "outputs": [],
   "source": [
    "embedder = SentenceTransformer('sentence-transformers/multi-qa-mpnet-base-cos-v1')"
   ]
  },
  {
   "cell_type": "code",
   "execution_count": 36,
   "id": "b152f698",
   "metadata": {},
   "outputs": [],
   "source": [
    "def predict_sentiment(text):\n",
    "    # Get embedding\n",
    "    embedding = embedder.encode([text])  # shape: (1, 768)\n",
    "    embedding = embedding.astype(np.float32)\n",
    "\n",
    "    # Run through ONNX model\n",
    "    ort_inputs = {session.get_inputs()[0].name: embedding}\n",
    "    ort_outs = session.run(None, ort_inputs)\n",
    "    logits = ort_outs[0].squeeze()  # shape: ()\n",
    "    prob = 1 / (1 + np.exp(-logits))  # sigmoid\n",
    "\n",
    "    # Binary prediction\n",
    "    pred = int(prob > 0.5)\n",
    "    return pred, float(prob)"
   ]
  },
  {
   "cell_type": "code",
   "execution_count": 37,
   "id": "cb2df242",
   "metadata": {},
   "outputs": [
    {
     "name": "stdout",
     "output_type": "stream",
     "text": [
      "Sentiment: 0 (negative) (probability: 0.1454)\n"
     ]
    }
   ],
   "source": [
    "text = \"I don't like this movie.\"\n",
    "pred, prob = predict_sentiment(text)\n",
    "print(f\"Sentiment: {pred} ({'positive' if pred == 1 else 'negative'}) (probability: {prob:.4f})\")"
   ]
  }
 ],
 "metadata": {
  "kernelspec": {
   "display_name": ".venv",
   "language": "python",
   "name": "python3"
  },
  "language_info": {
   "codemirror_mode": {
    "name": "ipython",
    "version": 3
   },
   "file_extension": ".py",
   "mimetype": "text/x-python",
   "name": "python",
   "nbconvert_exporter": "python",
   "pygments_lexer": "ipython3",
   "version": "3.12.3"
  }
 },
 "nbformat": 4,
 "nbformat_minor": 5
}
