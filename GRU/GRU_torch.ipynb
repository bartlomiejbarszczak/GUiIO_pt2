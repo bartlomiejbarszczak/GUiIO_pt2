{
 "cells": [
  {
   "cell_type": "code",
   "id": "initial_id",
   "metadata": {
    "collapsed": true,
    "ExecuteTime": {
     "end_time": "2025-05-19T17:41:03.898812Z",
     "start_time": "2025-05-19T17:40:40.294276Z"
    }
   },
   "source": [
    "import pandas as pd\n",
    "import numpy as np\n",
    "import matplotlib.pyplot as plt\n",
    "import torch\n",
    "import torch.nn as nn\n",
    "import torch.optim as optim\n",
    "from tensorflow.keras.preprocessing.text import Tokenizer\n",
    "from tensorflow.keras.preprocessing.sequence import pad_sequences\n",
    "from sklearn.model_selection import train_test_split\n",
    "from torch.utils.data import DataLoader, TensorDataset\n"
   ],
   "outputs": [],
   "execution_count": 1
  },
  {
   "metadata": {
    "ExecuteTime": {
     "end_time": "2025-05-19T17:41:04.003766Z",
     "start_time": "2025-05-19T17:41:03.902820Z"
    }
   },
   "cell_type": "code",
   "source": [
    "device = torch.device(\"cuda\" if torch.cuda.is_available() else \"cpu\")\n",
    "device"
   ],
   "id": "cdfe431fd5faf213",
   "outputs": [
    {
     "data": {
      "text/plain": [
       "device(type='cuda')"
      ]
     },
     "execution_count": 2,
     "metadata": {},
     "output_type": "execute_result"
    }
   ],
   "execution_count": 2
  },
  {
   "metadata": {
    "ExecuteTime": {
     "end_time": "2025-05-19T17:41:05.690262Z",
     "start_time": "2025-05-19T17:41:04.318091Z"
    }
   },
   "cell_type": "code",
   "source": [
    "train_df = pd.read_csv('train_data.csv').dropna(subset=['text', 'sentiment'])\n",
    "# train_df = train_df.sample(frac=0.5, random_state=42).reset_index(drop=True)\n",
    "test_df = pd.read_csv('test_data.csv').dropna(subset=['text', 'sentiment'])\n",
    "# test_df = test_df.sample(frac=0.5, random_state=42).reset_index(drop=True)"
   ],
   "id": "d2b39af5db176b49",
   "outputs": [],
   "execution_count": 3
  },
  {
   "metadata": {
    "ExecuteTime": {
     "end_time": "2025-05-19T17:41:05.717192Z",
     "start_time": "2025-05-19T17:41:05.712176Z"
    }
   },
   "cell_type": "code",
   "source": [
    "MAX_NUM_WORDS = 10000\n",
    "MAX_SEQUENCE_LENGTH = 50\n",
    "EMBEDDING_DIM = 128\n",
    "BATCH_SIZE = 256\n",
    "EPOCHS = 25"
   ],
   "id": "eb172fdac6c578fe",
   "outputs": [],
   "execution_count": 4
  },
  {
   "metadata": {
    "ExecuteTime": {
     "end_time": "2025-05-19T17:41:21.392619Z",
     "start_time": "2025-05-19T17:41:05.732043Z"
    }
   },
   "cell_type": "code",
   "source": [
    "tokenizer = Tokenizer(num_words=MAX_NUM_WORDS, oov_token=\"<OOV>\")\n",
    "tokenizer.fit_on_texts(train_df['text'])"
   ],
   "id": "51e1ef889c6b1c8a",
   "outputs": [],
   "execution_count": 5
  },
  {
   "metadata": {
    "ExecuteTime": {
     "end_time": "2025-05-19T17:41:42.048369Z",
     "start_time": "2025-05-19T17:41:21.405140Z"
    }
   },
   "cell_type": "code",
   "source": [
    "X_train_seq = tokenizer.texts_to_sequences(train_df['text'])\n",
    "X_test_seq = tokenizer.texts_to_sequences(test_df['text'])\n",
    "\n",
    "X_train = pad_sequences(X_train_seq, maxlen=MAX_SEQUENCE_LENGTH)\n",
    "X_test = pad_sequences(X_test_seq, maxlen=MAX_SEQUENCE_LENGTH)\n",
    "\n",
    "y_train = np.array(train_df['sentiment']).astype(np.float32)\n",
    "y_test = np.array(test_df['sentiment']).astype(np.float32)\n",
    "\n",
    "# Podział na zbiór walidacyjny\n",
    "X_train, X_val, y_train, y_val = train_test_split(X_train, y_train, test_size=0.2, random_state=42)"
   ],
   "id": "dd7a798c54350b61",
   "outputs": [],
   "execution_count": 6
  },
  {
   "metadata": {
    "ExecuteTime": {
     "end_time": "2025-05-19T17:41:42.406757Z",
     "start_time": "2025-05-19T17:41:42.068447Z"
    }
   },
   "cell_type": "code",
   "source": [
    "train_data = TensorDataset(torch.tensor(X_train, dtype=torch.long), torch.tensor(y_train))\n",
    "val_data = TensorDataset(torch.tensor(X_val, dtype=torch.long), torch.tensor(y_val))\n",
    "test_data = TensorDataset(torch.tensor(X_test, dtype=torch.long), torch.tensor(y_test))\n",
    "\n",
    "train_loader = DataLoader(train_data, batch_size=BATCH_SIZE, shuffle=True)\n",
    "val_loader = DataLoader(val_data, batch_size=BATCH_SIZE)\n",
    "test_loader = DataLoader(test_data, batch_size=BATCH_SIZE)"
   ],
   "id": "6e0714bc8294c8d1",
   "outputs": [],
   "execution_count": 7
  },
  {
   "metadata": {
    "ExecuteTime": {
     "end_time": "2025-05-19T17:41:42.494663Z",
     "start_time": "2025-05-19T17:41:42.487651Z"
    }
   },
   "cell_type": "code",
   "source": [
    "class SimpleGRU(nn.Module):\n",
    "    def __init__(self, vocab_size, embedding_dim, hidden_dim):\n",
    "        super(SimpleGRU, self).__init__()\n",
    "        self.embedding = nn.Embedding(vocab_size, embedding_dim)\n",
    "        self.gru = nn.GRU(embedding_dim, hidden_dim, batch_first=True)\n",
    "        self.dropout = nn.Dropout(0.3)\n",
    "        self.fc = nn.Linear(hidden_dim, 1)\n",
    "        self.sigmoid = nn.Sigmoid()\n",
    "\n",
    "    def forward(self, x):\n",
    "        x = self.embedding(x)\n",
    "        x, _ = self.gru(x)\n",
    "        x = self.dropout(x[:, -1, :])\n",
    "        x = self.sigmoid(self.fc(x))\n",
    "        return x\n"
   ],
   "id": "548d67c9b786b730",
   "outputs": [],
   "execution_count": 8
  },
  {
   "metadata": {
    "ExecuteTime": {
     "end_time": "2025-05-19T17:41:49.489032Z",
     "start_time": "2025-05-19T17:41:42.516148Z"
    }
   },
   "cell_type": "code",
   "source": [
    "model = SimpleGRU(MAX_NUM_WORDS, EMBEDDING_DIM, 32).to(device)\n",
    "criterion = nn.BCELoss()\n",
    "optimizer = optim.Adam(model.parameters(), lr=1e-3)"
   ],
   "id": "c232178246893110",
   "outputs": [],
   "execution_count": 9
  },
  {
   "metadata": {
    "ExecuteTime": {
     "end_time": "2025-05-19T17:55:05.476716Z",
     "start_time": "2025-05-19T17:41:49.507567Z"
    }
   },
   "cell_type": "code",
   "source": [
    "train_acc, val_acc, train_loss, val_loss = [], [], [], []\n",
    "from tqdm import tqdm\n",
    "\n",
    "for epoch in range(EPOCHS):\n",
    "    model.train()\n",
    "    total_loss, correct, total = 0, 0, 0\n",
    "    for inputs, labels in tqdm(train_loader, desc=f\"Epoch {epoch+1}/{EPOCHS} [Train]\"):\n",
    "        inputs, labels = inputs.to(device), labels.to(device).unsqueeze(1)\n",
    "        outputs = model(inputs)\n",
    "        loss = criterion(outputs, labels)\n",
    "        optimizer.zero_grad()\n",
    "        loss.backward()\n",
    "        optimizer.step()\n",
    "        total_loss += loss.item() * inputs.size(0)\n",
    "        preds = (outputs > 0.5).float()\n",
    "        correct += (preds == labels).sum().item()\n",
    "        total += labels.size(0)\n",
    "\n",
    "    train_loss.append(total_loss / total)\n",
    "    train_acc.append(correct / total)\n",
    "\n",
    "    # Walidacja\n",
    "    model.eval()\n",
    "    with torch.no_grad():\n",
    "        val_total_loss, val_correct, val_total = 0, 0, 0\n",
    "        for inputs, labels in tqdm(val_loader, desc=f\"Epoch {epoch+1}/{EPOCHS} [Val]\", leave=False):\n",
    "            inputs, labels = inputs.to(device), labels.to(device).unsqueeze(1)\n",
    "            outputs = model(inputs)\n",
    "            loss = criterion(outputs, labels)\n",
    "            val_total_loss += loss.item() * inputs.size(0)\n",
    "            preds = (outputs > 0.5).float()\n",
    "            val_correct += (preds == labels).sum().item()\n",
    "            val_total += labels.size(0)\n",
    "\n",
    "    val_loss.append(val_total_loss / val_total)\n",
    "    val_acc.append(val_correct / val_total)\n",
    "    print(\n",
    "        f\"Epoch {epoch+1}/{EPOCHS} | \"\n",
    "        f\"Train Acc: {train_acc[-1]:.4f} | \"\n",
    "        f\"Train Loss: {train_loss[-1]:.4f} | \"\n",
    "        f\"Val Acc: {val_acc[-1]:.4f} | \"\n",
    "        f\"Val Loss: {val_loss[-1]:.4f}\"\n",
    "    )\n",
    "\n"
   ],
   "id": "f7d4822a9e3df412",
   "outputs": [
    {
     "name": "stderr",
     "output_type": "stream",
     "text": [
      "Epoch 1/25 [Train]: 100%|██████████| 3981/3981 [00:29<00:00, 132.80it/s]\n",
      "                                                                    \r"
     ]
    },
    {
     "name": "stdout",
     "output_type": "stream",
     "text": [
      "Epoch 1/25 | Train Acc: 0.7578 | Train Loss: 0.4944 | Val Acc: 0.7824 | Val Loss: 0.4594\n"
     ]
    },
    {
     "name": "stderr",
     "output_type": "stream",
     "text": [
      "Epoch 2/25 [Train]: 100%|██████████| 3981/3981 [00:28<00:00, 141.21it/s]\n",
      "                                                                    \r"
     ]
    },
    {
     "name": "stdout",
     "output_type": "stream",
     "text": [
      "Epoch 2/25 | Train Acc: 0.7877 | Train Loss: 0.4528 | Val Acc: 0.7880 | Val Loss: 0.4514\n"
     ]
    },
    {
     "name": "stderr",
     "output_type": "stream",
     "text": [
      "Epoch 3/25 [Train]: 100%|██████████| 3981/3981 [00:28<00:00, 140.94it/s]\n",
      "                                                                    \r"
     ]
    },
    {
     "name": "stdout",
     "output_type": "stream",
     "text": [
      "Epoch 3/25 | Train Acc: 0.7944 | Train Loss: 0.4413 | Val Acc: 0.7900 | Val Loss: 0.4478\n"
     ]
    },
    {
     "name": "stderr",
     "output_type": "stream",
     "text": [
      "Epoch 4/25 [Train]: 100%|██████████| 3981/3981 [00:26<00:00, 148.95it/s]\n",
      "                                                                    \r"
     ]
    },
    {
     "name": "stdout",
     "output_type": "stream",
     "text": [
      "Epoch 4/25 | Train Acc: 0.7992 | Train Loss: 0.4329 | Val Acc: 0.7900 | Val Loss: 0.4473\n"
     ]
    },
    {
     "name": "stderr",
     "output_type": "stream",
     "text": [
      "Epoch 5/25 [Train]: 100%|██████████| 3981/3981 [00:27<00:00, 143.07it/s]\n",
      "                                                                    \r"
     ]
    },
    {
     "name": "stdout",
     "output_type": "stream",
     "text": [
      "Epoch 5/25 | Train Acc: 0.8037 | Train Loss: 0.4254 | Val Acc: 0.7903 | Val Loss: 0.4465\n"
     ]
    },
    {
     "name": "stderr",
     "output_type": "stream",
     "text": [
      "Epoch 6/25 [Train]: 100%|██████████| 3981/3981 [00:27<00:00, 145.84it/s]\n",
      "                                                                    \r"
     ]
    },
    {
     "name": "stdout",
     "output_type": "stream",
     "text": [
      "Epoch 6/25 | Train Acc: 0.8085 | Train Loss: 0.4180 | Val Acc: 0.7898 | Val Loss: 0.4476\n"
     ]
    },
    {
     "name": "stderr",
     "output_type": "stream",
     "text": [
      "Epoch 7/25 [Train]: 100%|██████████| 3981/3981 [00:27<00:00, 144.80it/s]\n",
      "                                                                    \r"
     ]
    },
    {
     "name": "stdout",
     "output_type": "stream",
     "text": [
      "Epoch 7/25 | Train Acc: 0.8129 | Train Loss: 0.4105 | Val Acc: 0.7896 | Val Loss: 0.4513\n"
     ]
    },
    {
     "name": "stderr",
     "output_type": "stream",
     "text": [
      "Epoch 8/25 [Train]: 100%|██████████| 3981/3981 [00:29<00:00, 134.29it/s]\n",
      "                                                                    \r"
     ]
    },
    {
     "name": "stdout",
     "output_type": "stream",
     "text": [
      "Epoch 8/25 | Train Acc: 0.8169 | Train Loss: 0.4038 | Val Acc: 0.7885 | Val Loss: 0.4522\n"
     ]
    },
    {
     "name": "stderr",
     "output_type": "stream",
     "text": [
      "Epoch 9/25 [Train]: 100%|██████████| 3981/3981 [00:29<00:00, 134.73it/s]\n",
      "                                                                    \r"
     ]
    },
    {
     "name": "stdout",
     "output_type": "stream",
     "text": [
      "Epoch 9/25 | Train Acc: 0.8213 | Train Loss: 0.3966 | Val Acc: 0.7877 | Val Loss: 0.4533\n"
     ]
    },
    {
     "name": "stderr",
     "output_type": "stream",
     "text": [
      "Epoch 10/25 [Train]: 100%|██████████| 3981/3981 [00:29<00:00, 133.82it/s]\n",
      "                                                                     \r"
     ]
    },
    {
     "name": "stdout",
     "output_type": "stream",
     "text": [
      "Epoch 10/25 | Train Acc: 0.8255 | Train Loss: 0.3895 | Val Acc: 0.7872 | Val Loss: 0.4579\n"
     ]
    },
    {
     "name": "stderr",
     "output_type": "stream",
     "text": [
      "Epoch 11/25 [Train]: 100%|██████████| 3981/3981 [00:28<00:00, 140.25it/s]\n",
      "                                                                     \r"
     ]
    },
    {
     "name": "stdout",
     "output_type": "stream",
     "text": [
      "Epoch 11/25 | Train Acc: 0.8293 | Train Loss: 0.3827 | Val Acc: 0.7861 | Val Loss: 0.4632\n"
     ]
    },
    {
     "name": "stderr",
     "output_type": "stream",
     "text": [
      "Epoch 12/25 [Train]: 100%|██████████| 3981/3981 [00:27<00:00, 144.14it/s]\n",
      "                                                                     \r"
     ]
    },
    {
     "name": "stdout",
     "output_type": "stream",
     "text": [
      "Epoch 12/25 | Train Acc: 0.8331 | Train Loss: 0.3763 | Val Acc: 0.7851 | Val Loss: 0.4652\n"
     ]
    },
    {
     "name": "stderr",
     "output_type": "stream",
     "text": [
      "Epoch 13/25 [Train]: 100%|██████████| 3981/3981 [00:27<00:00, 147.44it/s]\n",
      "                                                                     \r"
     ]
    },
    {
     "name": "stdout",
     "output_type": "stream",
     "text": [
      "Epoch 13/25 | Train Acc: 0.8370 | Train Loss: 0.3703 | Val Acc: 0.7834 | Val Loss: 0.4718\n"
     ]
    },
    {
     "name": "stderr",
     "output_type": "stream",
     "text": [
      "Epoch 14/25 [Train]: 100%|██████████| 3981/3981 [00:27<00:00, 143.92it/s]\n",
      "                                                                     \r"
     ]
    },
    {
     "name": "stdout",
     "output_type": "stream",
     "text": [
      "Epoch 14/25 | Train Acc: 0.8404 | Train Loss: 0.3646 | Val Acc: 0.7833 | Val Loss: 0.4758\n"
     ]
    },
    {
     "name": "stderr",
     "output_type": "stream",
     "text": [
      "Epoch 15/25 [Train]: 100%|██████████| 3981/3981 [00:27<00:00, 142.48it/s]\n",
      "                                                                     \r"
     ]
    },
    {
     "name": "stdout",
     "output_type": "stream",
     "text": [
      "Epoch 15/25 | Train Acc: 0.8436 | Train Loss: 0.3589 | Val Acc: 0.7819 | Val Loss: 0.4766\n"
     ]
    },
    {
     "name": "stderr",
     "output_type": "stream",
     "text": [
      "Epoch 16/25 [Train]: 100%|██████████| 3981/3981 [00:27<00:00, 145.04it/s]\n",
      "                                                                     \r"
     ]
    },
    {
     "name": "stdout",
     "output_type": "stream",
     "text": [
      "Epoch 16/25 | Train Acc: 0.8464 | Train Loss: 0.3539 | Val Acc: 0.7821 | Val Loss: 0.4811\n"
     ]
    },
    {
     "name": "stderr",
     "output_type": "stream",
     "text": [
      "Epoch 17/25 [Train]: 100%|██████████| 3981/3981 [00:26<00:00, 148.17it/s]\n",
      "                                                                     \r"
     ]
    },
    {
     "name": "stdout",
     "output_type": "stream",
     "text": [
      "Epoch 17/25 | Train Acc: 0.8491 | Train Loss: 0.3488 | Val Acc: 0.7809 | Val Loss: 0.4829\n"
     ]
    },
    {
     "name": "stderr",
     "output_type": "stream",
     "text": [
      "Epoch 18/25 [Train]: 100%|██████████| 3981/3981 [00:27<00:00, 144.36it/s]\n",
      "                                                                     \r"
     ]
    },
    {
     "name": "stdout",
     "output_type": "stream",
     "text": [
      "Epoch 18/25 | Train Acc: 0.8513 | Train Loss: 0.3451 | Val Acc: 0.7801 | Val Loss: 0.4878\n"
     ]
    },
    {
     "name": "stderr",
     "output_type": "stream",
     "text": [
      "Epoch 19/25 [Train]: 100%|██████████| 3981/3981 [00:27<00:00, 144.47it/s]\n",
      "                                                                     \r"
     ]
    },
    {
     "name": "stdout",
     "output_type": "stream",
     "text": [
      "Epoch 19/25 | Train Acc: 0.8538 | Train Loss: 0.3405 | Val Acc: 0.7787 | Val Loss: 0.4912\n"
     ]
    },
    {
     "name": "stderr",
     "output_type": "stream",
     "text": [
      "Epoch 20/25 [Train]: 100%|██████████| 3981/3981 [00:27<00:00, 146.17it/s]\n",
      "                                                                     \r"
     ]
    },
    {
     "name": "stdout",
     "output_type": "stream",
     "text": [
      "Epoch 20/25 | Train Acc: 0.8555 | Train Loss: 0.3368 | Val Acc: 0.7787 | Val Loss: 0.4978\n"
     ]
    },
    {
     "name": "stderr",
     "output_type": "stream",
     "text": [
      "Epoch 21/25 [Train]: 100%|██████████| 3981/3981 [00:28<00:00, 141.64it/s]\n",
      "                                                                     \r"
     ]
    },
    {
     "name": "stdout",
     "output_type": "stream",
     "text": [
      "Epoch 21/25 | Train Acc: 0.8578 | Train Loss: 0.3332 | Val Acc: 0.7778 | Val Loss: 0.4966\n"
     ]
    },
    {
     "name": "stderr",
     "output_type": "stream",
     "text": [
      "Epoch 22/25 [Train]: 100%|██████████| 3981/3981 [00:26<00:00, 150.05it/s]\n",
      "                                                                     \r"
     ]
    },
    {
     "name": "stdout",
     "output_type": "stream",
     "text": [
      "Epoch 22/25 | Train Acc: 0.8592 | Train Loss: 0.3299 | Val Acc: 0.7778 | Val Loss: 0.5031\n"
     ]
    },
    {
     "name": "stderr",
     "output_type": "stream",
     "text": [
      "Epoch 23/25 [Train]: 100%|██████████| 3981/3981 [00:28<00:00, 141.55it/s]\n",
      "                                                                     \r"
     ]
    },
    {
     "name": "stdout",
     "output_type": "stream",
     "text": [
      "Epoch 23/25 | Train Acc: 0.8611 | Train Loss: 0.3272 | Val Acc: 0.7774 | Val Loss: 0.5044\n"
     ]
    },
    {
     "name": "stderr",
     "output_type": "stream",
     "text": [
      "Epoch 24/25 [Train]: 100%|██████████| 3981/3981 [00:27<00:00, 144.85it/s]\n",
      "                                                                     \r"
     ]
    },
    {
     "name": "stdout",
     "output_type": "stream",
     "text": [
      "Epoch 24/25 | Train Acc: 0.8623 | Train Loss: 0.3249 | Val Acc: 0.7774 | Val Loss: 0.5071\n"
     ]
    },
    {
     "name": "stderr",
     "output_type": "stream",
     "text": [
      "Epoch 25/25 [Train]: 100%|██████████| 3981/3981 [00:27<00:00, 143.84it/s]\n",
      "                                                                     "
     ]
    },
    {
     "name": "stdout",
     "output_type": "stream",
     "text": [
      "Epoch 25/25 | Train Acc: 0.8637 | Train Loss: 0.3219 | Val Acc: 0.7771 | Val Loss: 0.5077\n"
     ]
    },
    {
     "name": "stderr",
     "output_type": "stream",
     "text": [
      "\r"
     ]
    }
   ],
   "execution_count": 10
  },
  {
   "metadata": {
    "ExecuteTime": {
     "end_time": "2025-05-19T17:55:10.792208Z",
     "start_time": "2025-05-19T17:55:05.692037Z"
    }
   },
   "cell_type": "code",
   "source": [
    "model.eval()\n",
    "with torch.no_grad():\n",
    "    correct, total = 0, 0\n",
    "    for inputs, labels in test_loader:\n",
    "        inputs, labels = inputs.to(device), labels.to(device).unsqueeze(1)\n",
    "        outputs = model(inputs)\n",
    "        preds = (outputs > 0.5).float()\n",
    "        correct += (preds == labels).sum().item()\n",
    "        total += labels.size(0)\n",
    "    test_acc = correct / total\n",
    "    print(f\"\\nDokładność na danych testowych: {test_acc:.4f}\")"
   ],
   "id": "311595ed88affadb",
   "outputs": [
    {
     "name": "stdout",
     "output_type": "stream",
     "text": [
      "\n",
      "Dokładność na danych testowych: 0.7783\n"
     ]
    }
   ],
   "execution_count": 11
  },
  {
   "metadata": {
    "ExecuteTime": {
     "end_time": "2025-05-19T17:55:11.140984Z",
     "start_time": "2025-05-19T17:55:10.877148Z"
    }
   },
   "cell_type": "code",
   "source": [
    "plt.figure(figsize=(12, 5))\n",
    "plt.subplot(1, 2, 1)\n",
    "plt.plot(train_acc, label='Trenowanie')\n",
    "plt.plot(val_acc, label='Walidacja')\n",
    "plt.title('Dokładność')\n",
    "plt.legend()\n",
    "\n",
    "plt.subplot(1, 2, 2)\n",
    "plt.plot(train_loss, label='Trenowanie')\n",
    "plt.plot(val_loss, label='Walidacja')\n",
    "plt.title('Strata')\n",
    "plt.legend()\n",
    "\n",
    "plt.show()"
   ],
   "id": "9729841228a36e9a",
   "outputs": [
    {
     "data": {
      "text/plain": [
       "<Figure size 1200x500 with 2 Axes>"
      ],
      "image/png": "[encoded data removed]"
     },
     "metadata": {},
     "output_type": "display_data"
    }
   ],
   "execution_count": 12
  },
  {
   "metadata": {
    "ExecuteTime": {
     "end_time": "2025-05-19T18:21:55.410975Z",
     "start_time": "2025-05-19T18:21:50.556404Z"
    }
   },
   "cell_type": "code",
   "source": [
    "from sklearn.metrics import confusion_matrix, ConfusionMatrixDisplay\n",
    "\n",
    "all_preds = []\n",
    "all_labels = []\n",
    "\n",
    "model.eval()\n",
    "with torch.no_grad():\n",
    "    for inputs, labels in test_loader:\n",
    "        inputs, labels = inputs.to(device), labels.to(device).unsqueeze(1)\n",
    "        outputs = model(inputs)\n",
    "        preds = (outputs > 0.5).float()\n",
    "        all_preds.extend(preds.cpu().numpy())\n",
    "        all_labels.extend(labels.cpu().numpy())\n",
    "\n",
    "cm = confusion_matrix(all_labels, all_preds)\n",
    "disp = ConfusionMatrixDisplay(confusion_matrix=cm, display_labels=[\"Negatywne\", \"Pozytywne\"])\n",
    "\n",
    "# Wyświetlenie\n",
    "disp.plot(cmap='Blues')\n",
    "plt.title('Macierz konfuzji (zbiór testowy)')\n",
    "plt.show()\n"
   ],
   "id": "931487e1767a2047",
   "outputs": [
    {
     "data": {
      "text/plain": [
       "<Figure size 640x480 with 2 Axes>"
      ],
      "image/png": "[encoded data removed]"
     },
     "metadata": {},
     "output_type": "display_data"
    }
   ],
   "execution_count": 13
  }
 ],
 "metadata": {
  "kernelspec": {
   "display_name": "Python 3",
   "language": "python",
   "name": "python3"
  },
  "language_info": {
   "codemirror_mode": {
    "name": "ipython",
    "version": 2
   },
   "file_extension": ".py",
   "mimetype": "text/x-python",
   "name": "python",
   "nbconvert_exporter": "python",
   "pygments_lexer": "ipython2",
   "version": "2.7.6"
  }
 },
 "nbformat": 4,
 "nbformat_minor": 5
}
