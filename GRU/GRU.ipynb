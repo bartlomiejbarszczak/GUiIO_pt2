{
 "cells": [
  {
   "cell_type": "code",
   "metadata": {
    "id": "ASZti9YWVwIG",
    "ExecuteTime": {
     "end_time": "2025-05-19T19:22:24.927792Z",
     "start_time": "2025-05-19T19:22:24.907864Z"
    }
   },
   "source": [
    "import pandas as pd\n",
    "import numpy as np\n",
    "import matplotlib.pyplot as plt\n",
    "import tensorflow as tf\n",
    "from tensorflow.keras.preprocessing.text import Tokenizer\n",
    "from tensorflow.keras.preprocessing.sequence import pad_sequences\n",
    "from tensorflow.keras.models import Sequential\n",
    "from tensorflow.keras.layers import Embedding, GRU, Dense, Dropout\n",
    "from sklearn.model_selection import train_test_split"
   ],
   "outputs": [],
   "execution_count": 113
  },
  {
   "cell_type": "code",
   "metadata": {
    "ExecuteTime": {
     "end_time": "2025-05-19T19:22:24.958086Z",
     "start_time": "2025-05-19T19:22:24.946914Z"
    }
   },
   "source": "print(\"GPUs:\", tf.config.list_physical_devices('GPU'))",
   "outputs": [
    {
     "name": "stdout",
     "output_type": "stream",
     "text": [
      "GPUs: []\n"
     ]
    }
   ],
   "execution_count": 114
  },
  {
   "cell_type": "code",
   "metadata": {
    "id": "_lSiI4w-WH6d",
    "ExecuteTime": {
     "end_time": "2025-05-19T19:22:28.222653Z",
     "start_time": "2025-05-19T19:22:25.313148Z"
    }
   },
   "source": [
    "train_df = pd.read_csv('train_data.csv').dropna(subset=['text', 'sentiment'])\n",
    "# train_df = train_df.sample(frac=0.5, random_state=42).reset_index(drop=True)\n",
    "test_df = pd.read_csv('test_data.csv').dropna(subset=['text', 'sentiment'])\n",
    "# test_df = test_df.sample(frac=0.5, random_state=42).reset_index(drop=True)"
   ],
   "outputs": [],
   "execution_count": 115
  },
  {
   "cell_type": "code",
   "metadata": {
    "ExecuteTime": {
     "end_time": "2025-05-19T19:22:28.511637Z",
     "start_time": "2025-05-19T19:22:28.504777Z"
    }
   },
   "source": [
    "print(len(train_df), len(test_df))"
   ],
   "outputs": [
    {
     "name": "stdout",
     "output_type": "stream",
     "text": [
      "1273807 318482\n"
     ]
    }
   ],
   "execution_count": 116
  },
  {
   "cell_type": "code",
   "metadata": {
    "colab": {
     "base_uri": "https://localhost:8080/",
     "height": 206
    },
    "id": "9f1YlcDtWtbl",
    "outputId": "2379c2d7-d8e5-4a97-ae22-46fde396e71e",
    "ExecuteTime": {
     "end_time": "2025-05-19T19:22:28.789610Z",
     "start_time": "2025-05-19T19:22:28.777514Z"
    }
   },
   "source": [
    "test_df.head()"
   ],
   "outputs": [
    {
     "data": {
      "text/plain": [
       "                                                text  sentiment\n",
       "0  yes black red fav colors really wanted colors ...          0\n",
       "1  qu buy open house weekend ampm best value one ...          1\n",
       "2          fran greet air thats okay hahahaha thanks          1\n",
       "3  omg thats awesome goood luck u meet caaute cal...          1\n",
       "4                               hahahhaha good point          1"
      ],
      "text/html": [
       "<div>\n",
       "<style scoped>\n",
       "    .dataframe tbody tr th:only-of-type {\n",
       "        vertical-align: middle;\n",
       "    }\n",
       "\n",
       "    .dataframe tbody tr th {\n",
       "        vertical-align: top;\n",
       "    }\n",
       "\n",
       "    .dataframe thead th {\n",
       "        text-align: right;\n",
       "    }\n",
       "</style>\n",
       "<table border=\"1\" class=\"dataframe\">\n",
       "  <thead>\n",
       "    <tr style=\"text-align: right;\">\n",
       "      <th></th>\n",
       "      <th>text</th>\n",
       "      <th>sentiment</th>\n",
       "    </tr>\n",
       "  </thead>\n",
       "  <tbody>\n",
       "    <tr>\n",
       "      <th>0</th>\n",
       "      <td>yes black red fav colors really wanted colors ...</td>\n",
       "      <td>0</td>\n",
       "    </tr>\n",
       "    <tr>\n",
       "      <th>1</th>\n",
       "      <td>qu buy open house weekend ampm best value one ...</td>\n",
       "      <td>1</td>\n",
       "    </tr>\n",
       "    <tr>\n",
       "      <th>2</th>\n",
       "      <td>fran greet air thats okay hahahaha thanks</td>\n",
       "      <td>1</td>\n",
       "    </tr>\n",
       "    <tr>\n",
       "      <th>3</th>\n",
       "      <td>omg thats awesome goood luck u meet caaute cal...</td>\n",
       "      <td>1</td>\n",
       "    </tr>\n",
       "    <tr>\n",
       "      <th>4</th>\n",
       "      <td>hahahhaha good point</td>\n",
       "      <td>1</td>\n",
       "    </tr>\n",
       "  </tbody>\n",
       "</table>\n",
       "</div>"
      ]
     },
     "execution_count": 117,
     "metadata": {},
     "output_type": "execute_result"
    }
   ],
   "execution_count": 117
  },
  {
   "cell_type": "code",
   "metadata": {
    "id": "4_Dymx78WL9m",
    "ExecuteTime": {
     "end_time": "2025-05-19T19:22:29.163027Z",
     "start_time": "2025-05-19T19:22:29.153502Z"
    }
   },
   "source": [
    "MAX_NUM_WORDS = 10000\n",
    "MAX_SEQUENCE_LENGTH = 100\n",
    "EMBEDDING_DIM = 32"
   ],
   "outputs": [],
   "execution_count": 118
  },
  {
   "cell_type": "code",
   "metadata": {
    "id": "-zdoV4eFWNO3",
    "ExecuteTime": {
     "end_time": "2025-05-19T19:22:54.264318Z",
     "start_time": "2025-05-19T19:22:29.230015Z"
    }
   },
   "source": [
    "tokenizer = Tokenizer(num_words=MAX_NUM_WORDS, oov_token=\"<OOV>\")\n",
    "tokenizer.fit_on_texts(train_df['text'])"
   ],
   "outputs": [],
   "execution_count": 119
  },
  {
   "cell_type": "code",
   "metadata": {
    "id": "j_ZWx5RGWO_M",
    "ExecuteTime": {
     "end_time": "2025-05-19T19:23:20.701744Z",
     "start_time": "2025-05-19T19:22:54.270324Z"
    }
   },
   "source": [
    "X_train_seq = tokenizer.texts_to_sequences(train_df['text'])\n",
    "X_test_seq = tokenizer.texts_to_sequences(test_df['text'])\n",
    "\n",
    "X_train = pad_sequences(X_train_seq, maxlen=MAX_SEQUENCE_LENGTH)\n",
    "X_test = pad_sequences(X_test_seq, maxlen=MAX_SEQUENCE_LENGTH)\n",
    "\n",
    "y_train = np.array(train_df['sentiment'])\n",
    "y_test = np.array(test_df['sentiment'])\n",
    "\n",
    "X_train, X_val, y_train, y_val = train_test_split(X_train, y_train, test_size=0.2, random_state=42)"
   ],
   "outputs": [],
   "execution_count": 120
  },
  {
   "cell_type": "code",
   "metadata": {
    "ExecuteTime": {
     "end_time": "2025-05-19T19:23:21.117237Z",
     "start_time": "2025-05-19T19:23:21.111062Z"
    }
   },
   "source": [
    "print(len(X_train), len(X_val))"
   ],
   "outputs": [
    {
     "name": "stdout",
     "output_type": "stream",
     "text": [
      "1019045 254762\n"
     ]
    }
   ],
   "execution_count": 121
  },
  {
   "cell_type": "code",
   "metadata": {
    "colab": {
     "base_uri": "https://localhost:8080/"
    },
    "id": "plbT3eEcIKRh",
    "outputId": "d45871e1-cbff-4d14-aba2-2155121fd5c3",
    "ExecuteTime": {
     "end_time": "2025-05-19T19:23:21.532289Z",
     "start_time": "2025-05-19T19:23:21.426594Z"
    }
   },
   "source": [
    "list(tokenizer.index_word.items())[:20]"
   ],
   "outputs": [
    {
     "data": {
      "text/plain": [
       "[(1, '<OOV>'),\n",
       " (2, 'im'),\n",
       " (3, 'good'),\n",
       " (4, 'day'),\n",
       " (5, 'get'),\n",
       " (6, 'like'),\n",
       " (7, 'go'),\n",
       " (8, 'dont'),\n",
       " (9, 'today'),\n",
       " (10, 'going'),\n",
       " (11, 'love'),\n",
       " (12, 'work'),\n",
       " (13, 'cant'),\n",
       " (14, 'got'),\n",
       " (15, 'time'),\n",
       " (16, 'back'),\n",
       " (17, 'lol'),\n",
       " (18, 'u'),\n",
       " (19, 'one'),\n",
       " (20, 'know')]"
      ]
     },
     "execution_count": 122,
     "metadata": {},
     "output_type": "execute_result"
    }
   ],
   "execution_count": 122
  },
  {
   "cell_type": "code",
   "metadata": {
    "colab": {
     "base_uri": "https://localhost:8080/"
    },
    "id": "wQOp_GMoIQ7p",
    "outputId": "713de310-5dc9-427b-ff8a-37be64c572a7",
    "ExecuteTime": {
     "end_time": "2025-05-19T19:23:21.872312Z",
     "start_time": "2025-05-19T19:23:21.844229Z"
    }
   },
   "source": [
    "word_index = tokenizer.word_index\n",
    "print(f'{len(word_index)} unikatowych słów.')"
   ],
   "outputs": [
    {
     "name": "stdout",
     "output_type": "stream",
     "text": [
      "358064 unikatowych słów.\n"
     ]
    }
   ],
   "execution_count": 123
  },
  {
   "cell_type": "code",
   "metadata": {
    "id": "J3u1FcnZWYu1",
    "ExecuteTime": {
     "end_time": "2025-05-19T19:23:22.253618Z",
     "start_time": "2025-05-19T19:23:22.190130Z"
    }
   },
   "source": [
    "model = Sequential([\n",
    "    Embedding(input_dim=MAX_NUM_WORDS, output_dim=EMBEDDING_DIM, input_shape=(MAX_SEQUENCE_LENGTH,)),\n",
    "    GRU(16),\n",
    "    Dense(1, activation='sigmoid')\n",
    "])\n"
   ],
   "outputs": [
    {
     "name": "stderr",
     "output_type": "stream",
     "text": [
      "C:\\Users\\cynar\\Desktop\\projects\\sieci\\venv\\Lib\\site-packages\\keras\\src\\layers\\core\\embedding.py:93: UserWarning: Do not pass an `input_shape`/`input_dim` argument to a layer. When using Sequential models, prefer using an `Input(shape)` object as the first layer in the model instead.\n",
      "  super().__init__(**kwargs)\n"
     ]
    }
   ],
   "execution_count": 124
  },
  {
   "cell_type": "code",
   "metadata": {
    "colab": {
     "base_uri": "https://localhost:8080/",
     "height": 306
    },
    "id": "nxp44onSWaHX",
    "outputId": "1279d11b-43b1-4ffc-a1f8-03ef28d71d1b",
    "ExecuteTime": {
     "end_time": "2025-05-19T19:23:22.572440Z",
     "start_time": "2025-05-19T19:23:22.549436Z"
    }
   },
   "source": [
    "model.compile(loss='binary_crossentropy', optimizer='adam', metrics=['accuracy'])\n",
    "model.summary()"
   ],
   "outputs": [
    {
     "data": {
      "text/plain": [
       "\u001B[1mModel: \"sequential_8\"\u001B[0m\n"
      ],
      "text/html": [
       "<pre style=\"white-space:pre;overflow-x:auto;line-height:normal;font-family:Menlo,'DejaVu Sans Mono',consolas,'Courier New',monospace\"><span style=\"font-weight: bold\">Model: \"sequential_8\"</span>\n",
       "</pre>\n"
      ]
     },
     "metadata": {},
     "output_type": "display_data"
    },
    {
     "data": {
      "text/plain": [
       "┏━━━━━━━━━━━━━━━━━━━━━━━━━━━━━━━━━┳━━━━━━━━━━━━━━━━━━━━━━━━┳━━━━━━━━━━━━━━━┓\n",
       "┃\u001B[1m \u001B[0m\u001B[1mLayer (type)                   \u001B[0m\u001B[1m \u001B[0m┃\u001B[1m \u001B[0m\u001B[1mOutput Shape          \u001B[0m\u001B[1m \u001B[0m┃\u001B[1m \u001B[0m\u001B[1m      Param #\u001B[0m\u001B[1m \u001B[0m┃\n",
       "┡━━━━━━━━━━━━━━━━━━━━━━━━━━━━━━━━━╇━━━━━━━━━━━━━━━━━━━━━━━━╇━━━━━━━━━━━━━━━┩\n",
       "│ embedding_8 (\u001B[38;5;33mEmbedding\u001B[0m)         │ (\u001B[38;5;45mNone\u001B[0m, \u001B[38;5;34m100\u001B[0m, \u001B[38;5;34m32\u001B[0m)        │       \u001B[38;5;34m320,000\u001B[0m │\n",
       "├─────────────────────────────────┼────────────────────────┼───────────────┤\n",
       "│ gru_11 (\u001B[38;5;33mGRU\u001B[0m)                    │ (\u001B[38;5;45mNone\u001B[0m, \u001B[38;5;34m16\u001B[0m)             │         \u001B[38;5;34m2,400\u001B[0m │\n",
       "├─────────────────────────────────┼────────────────────────┼───────────────┤\n",
       "│ dense_12 (\u001B[38;5;33mDense\u001B[0m)                │ (\u001B[38;5;45mNone\u001B[0m, \u001B[38;5;34m1\u001B[0m)              │            \u001B[38;5;34m17\u001B[0m │\n",
       "└─────────────────────────────────┴────────────────────────┴───────────────┘\n"
      ],
      "text/html": [
       "<pre style=\"white-space:pre;overflow-x:auto;line-height:normal;font-family:Menlo,'DejaVu Sans Mono',consolas,'Courier New',monospace\">┏━━━━━━━━━━━━━━━━━━━━━━━━━━━━━━━━━┳━━━━━━━━━━━━━━━━━━━━━━━━┳━━━━━━━━━━━━━━━┓\n",
       "┃<span style=\"font-weight: bold\"> Layer (type)                    </span>┃<span style=\"font-weight: bold\"> Output Shape           </span>┃<span style=\"font-weight: bold\">       Param # </span>┃\n",
       "┡━━━━━━━━━━━━━━━━━━━━━━━━━━━━━━━━━╇━━━━━━━━━━━━━━━━━━━━━━━━╇━━━━━━━━━━━━━━━┩\n",
       "│ embedding_8 (<span style=\"color: #0087ff; text-decoration-color: #0087ff\">Embedding</span>)         │ (<span style=\"color: #00d7ff; text-decoration-color: #00d7ff\">None</span>, <span style=\"color: #00af00; text-decoration-color: #00af00\">100</span>, <span style=\"color: #00af00; text-decoration-color: #00af00\">32</span>)        │       <span style=\"color: #00af00; text-decoration-color: #00af00\">320,000</span> │\n",
       "├─────────────────────────────────┼────────────────────────┼───────────────┤\n",
       "│ gru_11 (<span style=\"color: #0087ff; text-decoration-color: #0087ff\">GRU</span>)                    │ (<span style=\"color: #00d7ff; text-decoration-color: #00d7ff\">None</span>, <span style=\"color: #00af00; text-decoration-color: #00af00\">16</span>)             │         <span style=\"color: #00af00; text-decoration-color: #00af00\">2,400</span> │\n",
       "├─────────────────────────────────┼────────────────────────┼───────────────┤\n",
       "│ dense_12 (<span style=\"color: #0087ff; text-decoration-color: #0087ff\">Dense</span>)                │ (<span style=\"color: #00d7ff; text-decoration-color: #00d7ff\">None</span>, <span style=\"color: #00af00; text-decoration-color: #00af00\">1</span>)              │            <span style=\"color: #00af00; text-decoration-color: #00af00\">17</span> │\n",
       "└─────────────────────────────────┴────────────────────────┴───────────────┘\n",
       "</pre>\n"
      ]
     },
     "metadata": {},
     "output_type": "display_data"
    },
    {
     "data": {
      "text/plain": [
       "\u001B[1m Total params: \u001B[0m\u001B[38;5;34m322,417\u001B[0m (1.23 MB)\n"
      ],
      "text/html": [
       "<pre style=\"white-space:pre;overflow-x:auto;line-height:normal;font-family:Menlo,'DejaVu Sans Mono',consolas,'Courier New',monospace\"><span style=\"font-weight: bold\"> Total params: </span><span style=\"color: #00af00; text-decoration-color: #00af00\">322,417</span> (1.23 MB)\n",
       "</pre>\n"
      ]
     },
     "metadata": {},
     "output_type": "display_data"
    },
    {
     "data": {
      "text/plain": [
       "\u001B[1m Trainable params: \u001B[0m\u001B[38;5;34m322,417\u001B[0m (1.23 MB)\n"
      ],
      "text/html": [
       "<pre style=\"white-space:pre;overflow-x:auto;line-height:normal;font-family:Menlo,'DejaVu Sans Mono',consolas,'Courier New',monospace\"><span style=\"font-weight: bold\"> Trainable params: </span><span style=\"color: #00af00; text-decoration-color: #00af00\">322,417</span> (1.23 MB)\n",
       "</pre>\n"
      ]
     },
     "metadata": {},
     "output_type": "display_data"
    },
    {
     "data": {
      "text/plain": [
       "\u001B[1m Non-trainable params: \u001B[0m\u001B[38;5;34m0\u001B[0m (0.00 B)\n"
      ],
      "text/html": [
       "<pre style=\"white-space:pre;overflow-x:auto;line-height:normal;font-family:Menlo,'DejaVu Sans Mono',consolas,'Courier New',monospace\"><span style=\"font-weight: bold\"> Non-trainable params: </span><span style=\"color: #00af00; text-decoration-color: #00af00\">0</span> (0.00 B)\n",
       "</pre>\n"
      ]
     },
     "metadata": {},
     "output_type": "display_data"
    }
   ],
   "execution_count": 125
  },
  {
   "cell_type": "code",
   "metadata": {
    "colab": {
     "base_uri": "https://localhost:8080/"
    },
    "id": "SL-vxgVaWbTV",
    "outputId": "789345f0-8d2b-49be-ba7a-b5865a2dfaba",
    "ExecuteTime": {
     "end_time": "2025-05-19T19:52:14.392256Z",
     "start_time": "2025-05-19T19:23:22.903961Z"
    }
   },
   "source": [
    "history = model.fit(\n",
    "    X_train, y_train,\n",
    "    epochs=10,\n",
    "    batch_size=256,\n",
    "    validation_data=(X_val, y_val)\n",
    ")"
   ],
   "outputs": [
    {
     "name": "stdout",
     "output_type": "stream",
     "text": [
      "Epoch 1/10\n",
      "\u001B[1m3981/3981\u001B[0m \u001B[32m━━━━━━━━━━━━━━━━━━━━\u001B[0m\u001B[37m\u001B[0m \u001B[1m180s\u001B[0m 44ms/step - accuracy: 0.7565 - loss: 0.4958 - val_accuracy: 0.7872 - val_loss: 0.4508\n",
      "Epoch 2/10\n",
      "\u001B[1m3981/3981\u001B[0m \u001B[32m━━━━━━━━━━━━━━━━━━━━\u001B[0m\u001B[37m\u001B[0m \u001B[1m177s\u001B[0m 45ms/step - accuracy: 0.7940 - loss: 0.4378 - val_accuracy: 0.7911 - val_loss: 0.4440\n",
      "Epoch 3/10\n",
      "\u001B[1m3981/3981\u001B[0m \u001B[32m━━━━━━━━━━━━━━━━━━━━\u001B[0m\u001B[37m\u001B[0m \u001B[1m179s\u001B[0m 45ms/step - accuracy: 0.8013 - loss: 0.4251 - val_accuracy: 0.7922 - val_loss: 0.4419\n",
      "Epoch 4/10\n",
      "\u001B[1m3981/3981\u001B[0m \u001B[32m━━━━━━━━━━━━━━━━━━━━\u001B[0m\u001B[37m\u001B[0m \u001B[1m190s\u001B[0m 48ms/step - accuracy: 0.8078 - loss: 0.4146 - val_accuracy: 0.7934 - val_loss: 0.4414\n",
      "Epoch 5/10\n",
      "\u001B[1m3981/3981\u001B[0m \u001B[32m━━━━━━━━━━━━━━━━━━━━\u001B[0m\u001B[37m\u001B[0m \u001B[1m143s\u001B[0m 36ms/step - accuracy: 0.8121 - loss: 0.4054 - val_accuracy: 0.7925 - val_loss: 0.4429\n",
      "Epoch 6/10\n",
      "\u001B[1m3981/3981\u001B[0m \u001B[32m━━━━━━━━━━━━━━━━━━━━\u001B[0m\u001B[37m\u001B[0m \u001B[1m127s\u001B[0m 32ms/step - accuracy: 0.8173 - loss: 0.3969 - val_accuracy: 0.7922 - val_loss: 0.4449\n",
      "Epoch 7/10\n",
      "\u001B[1m3981/3981\u001B[0m \u001B[32m━━━━━━━━━━━━━━━━━━━━\u001B[0m\u001B[37m\u001B[0m \u001B[1m169s\u001B[0m 42ms/step - accuracy: 0.8220 - loss: 0.3886 - val_accuracy: 0.7914 - val_loss: 0.4490\n",
      "Epoch 8/10\n",
      "\u001B[1m3981/3981\u001B[0m \u001B[32m━━━━━━━━━━━━━━━━━━━━\u001B[0m\u001B[37m\u001B[0m \u001B[1m179s\u001B[0m 45ms/step - accuracy: 0.8261 - loss: 0.3805 - val_accuracy: 0.7895 - val_loss: 0.4551\n",
      "Epoch 9/10\n",
      "\u001B[1m3981/3981\u001B[0m \u001B[32m━━━━━━━━━━━━━━━━━━━━\u001B[0m\u001B[37m\u001B[0m \u001B[1m182s\u001B[0m 46ms/step - accuracy: 0.8316 - loss: 0.3708 - val_accuracy: 0.7887 - val_loss: 0.4616\n",
      "Epoch 10/10\n",
      "\u001B[1m3981/3981\u001B[0m \u001B[32m━━━━━━━━━━━━━━━━━━━━\u001B[0m\u001B[37m\u001B[0m \u001B[1m205s\u001B[0m 46ms/step - accuracy: 0.8364 - loss: 0.3623 - val_accuracy: 0.7868 - val_loss: 0.4690\n"
     ]
    }
   ],
   "execution_count": 126
  },
  {
   "cell_type": "code",
   "metadata": {
    "colab": {
     "base_uri": "https://localhost:8080/"
    },
    "id": "yxCjMnWKWcnF",
    "outputId": "4e20b353-18fd-4aef-f405-7df09d969790",
    "ExecuteTime": {
     "end_time": "2025-05-19T19:53:36.419998Z",
     "start_time": "2025-05-19T19:52:14.779142Z"
    }
   },
   "source": [
    "test_loss, test_acc = model.evaluate(X_test, y_test)\n",
    "print(f'\\nDokładność na danych testowych: {test_acc:.4f}')"
   ],
   "outputs": [
    {
     "name": "stdout",
     "output_type": "stream",
     "text": [
      "\u001B[1m9953/9953\u001B[0m \u001B[32m━━━━━━━━━━━━━━━━━━━━\u001B[0m\u001B[37m\u001B[0m \u001B[1m81s\u001B[0m 8ms/step - accuracy: 0.7874 - loss: 0.4688\n",
      "\n",
      "Dokładność na danych testowych: 0.7878\n"
     ]
    }
   ],
   "execution_count": 127
  },
  {
   "cell_type": "code",
   "metadata": {
    "colab": {
     "base_uri": "https://localhost:8080/",
     "height": 468
    },
    "id": "Y2pTyUOiWeH1",
    "outputId": "4f866b77-8b45-441e-977a-fbe17d801182",
    "ExecuteTime": {
     "end_time": "2025-05-19T19:53:37.694993Z",
     "start_time": "2025-05-19T19:53:37.322221Z"
    }
   },
   "source": [
    "plt.figure(figsize=(12, 5))\n",
    "plt.subplot(1, 2, 1)\n",
    "plt.plot(history.history['accuracy'], label='Trenowanie')\n",
    "plt.plot(history.history['val_accuracy'], label='Walidacja')\n",
    "plt.title('Dokładność')\n",
    "plt.legend()\n",
    "\n",
    "plt.subplot(1, 2, 2)\n",
    "plt.plot(history.history['loss'], label='Trenowanie')\n",
    "plt.plot(history.history['val_loss'], label='Walidacja')\n",
    "plt.title('Strata')\n",
    "plt.legend()\n",
    "\n",
    "plt.show()"
   ],
   "outputs": [
    {
     "data": {
      "text/plain": [
       "<Figure size 1200x500 with 2 Axes>"
      ],
      "image/png": "[encoded data removed]"
     },
     "metadata": {},
     "output_type": "display_data"
    }
   ],
   "execution_count": 128
  },
  {
   "cell_type": "code",
   "metadata": {
    "ExecuteTime": {
     "end_time": "2025-05-19T19:55:00.411919Z",
     "start_time": "2025-05-19T19:53:37.706054Z"
    }
   },
   "source": [
    "from sklearn.metrics import confusion_matrix, ConfusionMatrixDisplay\n",
    "\n",
    "y_pred_probs = model.predict(X_test)\n",
    "y_pred = (y_pred_probs > 0.5).astype(\"int32\")\n",
    "\n",
    "cm = confusion_matrix(y_test, y_pred)\n",
    "disp = ConfusionMatrixDisplay(confusion_matrix=cm, display_labels=[\"Negatywne\", \"Pozytywne\"])\n",
    "disp.plot(cmap='Blues')\n",
    "plt.title('Macierz konfuzji (zbiór testowy)')\n",
    "plt.show()\n"
   ],
   "outputs": [
    {
     "name": "stdout",
     "output_type": "stream",
     "text": [
      "\u001B[1m9953/9953\u001B[0m \u001B[32m━━━━━━━━━━━━━━━━━━━━\u001B[0m\u001B[37m\u001B[0m \u001B[1m77s\u001B[0m 8ms/step\n"
     ]
    },
    {
     "data": {
      "text/plain": [
       "<Figure size 640x480 with 2 Axes>"
      ],
      "image/png": "[encoded data removed]"
     },
     "metadata": {},
     "output_type": "display_data"
    }
   ],
   "execution_count": 129
  }
 ],
 "metadata": {
  "colab": {
   "provenance": []
  },
  "kernelspec": {
   "display_name": "Python 3 (ipykernel)",
   "language": "python",
   "name": "python3"
  },
  "language_info": {
   "codemirror_mode": {
    "name": "ipython",
    "version": 3
   },
   "file_extension": ".py",
   "mimetype": "text/x-python",
   "name": "python",
   "nbconvert_exporter": "python",
   "pygments_lexer": "ipython3",
   "version": "3.10.12"
  }
 },
 "nbformat": 4,
 "nbformat_minor": 0
}
